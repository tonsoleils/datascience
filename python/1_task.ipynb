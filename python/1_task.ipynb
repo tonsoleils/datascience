{
 "cells": [
  {
   "cell_type": "markdown",
   "id": "caec52ff",
   "metadata": {},
   "source": [
    "# Самостоятельное задание\n",
    "\n",
    "Мы предлагаем вам потренироваться c логическими и побитовыми операторами."
   ]
  },
  {
   "cell_type": "code",
   "execution_count": 1,
   "id": "7fe7e97e",
   "metadata": {},
   "outputs": [],
   "source": [
    "a = True\n",
    "\n",
    "b = False"
   ]
  },
  {
   "cell_type": "markdown",
   "id": "06c53579",
   "metadata": {},
   "source": [
    "**Решите:**\n",
    "\n",
    "1. a and b\n",
    "\n",
    "Ответ: False\n",
    "\n",
    "2. (a and b) or b\n",
    "\n",
    "Ответ: False\n",
    "\n",
    "3. (a and b) or not (a and b)\n",
    "\n",
    "Ответ: True\n",
    "\n",
    "4. a and b or not (a or b) or b\n",
    "\n",
    "Ответ: False\n",
    "\n",
    "5. b and b or not a and (a or b or a) or not (a or b)\n",
    "\n",
    "Ответ: False\n",
    "\n",
    "6. 1 << 2\n",
    "\n",
    "Ответ: 4\n",
    "\n",
    "7. 1 & 0 | 1 >> 1\n",
    "\n",
    "Ответ: 0\n",
    "\n",
    "8. 1 & 0 | 1 >> 0\n",
    "\n",
    "Ответ: 1\n",
    "\n",
    "9. 0b101 & 0b111 ^ 0b111 | 0b010  Комментарий: \"0b101\" - запись числа \"5\" на языке Python в двоичном виде \n",
    "\n",
    "Ответ: 2"
   ]
  },
  {
   "cell_type": "code",
   "execution_count": 2,
   "id": "314c4084",
   "metadata": {},
   "outputs": [
    {
     "name": "stdout",
     "output_type": "stream",
     "text": [
      "False\n"
     ]
    }
   ],
   "source": [
    "print(a and b)"
   ]
  },
  {
   "cell_type": "code",
   "execution_count": 3,
   "id": "da99aa93",
   "metadata": {},
   "outputs": [
    {
     "name": "stdout",
     "output_type": "stream",
     "text": [
      "False\n"
     ]
    }
   ],
   "source": [
    "print((a and b) or b)"
   ]
  },
  {
   "cell_type": "code",
   "execution_count": 4,
   "id": "b3bc1466",
   "metadata": {},
   "outputs": [
    {
     "name": "stdout",
     "output_type": "stream",
     "text": [
      "True\n"
     ]
    }
   ],
   "source": [
    "print((a and b) or not (a and b))"
   ]
  },
  {
   "cell_type": "code",
   "execution_count": 5,
   "id": "c8604099",
   "metadata": {},
   "outputs": [
    {
     "name": "stdout",
     "output_type": "stream",
     "text": [
      "False\n"
     ]
    }
   ],
   "source": [
    "print(a and b or not (a or b) or b)"
   ]
  },
  {
   "cell_type": "code",
   "execution_count": 6,
   "id": "d6e95067",
   "metadata": {},
   "outputs": [
    {
     "name": "stdout",
     "output_type": "stream",
     "text": [
      "False\n"
     ]
    }
   ],
   "source": [
    "print(b and b or not a and (a or b or a) or not (a or b))"
   ]
  },
  {
   "cell_type": "code",
   "execution_count": 7,
   "id": "0170bf85",
   "metadata": {},
   "outputs": [
    {
     "name": "stdout",
     "output_type": "stream",
     "text": [
      "4\n"
     ]
    }
   ],
   "source": [
    "print(1 << 2)"
   ]
  },
  {
   "cell_type": "code",
   "execution_count": 8,
   "id": "36e9f07f",
   "metadata": {},
   "outputs": [
    {
     "name": "stdout",
     "output_type": "stream",
     "text": [
      "0\n"
     ]
    }
   ],
   "source": [
    "print(1 & 0 | 1 >> 1)"
   ]
  },
  {
   "cell_type": "code",
   "execution_count": 9,
   "id": "a7ad1964",
   "metadata": {},
   "outputs": [
    {
     "name": "stdout",
     "output_type": "stream",
     "text": [
      "1\n"
     ]
    }
   ],
   "source": [
    "print(1 & 0 | 1 >> 0)"
   ]
  },
  {
   "cell_type": "code",
   "execution_count": 10,
   "id": "1577f8e5",
   "metadata": {},
   "outputs": [
    {
     "name": "stdout",
     "output_type": "stream",
     "text": [
      "2\n"
     ]
    }
   ],
   "source": [
    "print(0b101 & 0b111 ^ 0b111 | 0b010)"
   ]
  }
 ],
 "metadata": {
  "kernelspec": {
   "display_name": "Python 3.9.5 64-bit (system)",
   "language": "python",
   "name": "python3"
  },
  "language_info": {
   "codemirror_mode": {
    "name": "ipython",
    "version": 3
   },
   "file_extension": ".py",
   "mimetype": "text/x-python",
   "name": "python",
   "nbconvert_exporter": "python",
   "pygments_lexer": "ipython3",
   "version": "3.9.5"
  },
  "vscode": {
   "interpreter": {
    "hash": "bbfeb958d0ee73e09dd6ab3c2476db2cbbc40ef3d490514bcd1cdc607b206307"
   }
  }
 },
 "nbformat": 4,
 "nbformat_minor": 5
}
