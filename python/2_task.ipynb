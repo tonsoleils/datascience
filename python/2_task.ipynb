{
 "cells": [
  {
   "cell_type": "markdown",
   "id": "246424fe",
   "metadata": {},
   "source": [
    "# Самостоятельная работа #2\n",
    "### Задание 1\n",
    "\n",
    "Допишите функцию, которая принимает 2 числа, сравнивает между собой и возвращает наименьшее."
   ]
  },
  {
   "cell_type": "code",
   "execution_count": 4,
   "id": "1b225d18",
   "metadata": {},
   "outputs": [],
   "source": [
    "def min_2(a, b):\n",
    "    if a < b:\n",
    "        return a\n",
    "    else:\n",
    "        return b"
   ]
  },
  {
   "cell_type": "markdown",
   "id": "9342d85f",
   "metadata": {},
   "source": [
    "### Задание 2\n",
    "\n",
    "Допишите функцию, которая принимает 3 числа, сравнивает между собой и возвращает наименьшее."
   ]
  },
  {
   "cell_type": "code",
   "execution_count": 7,
   "id": "5371aa95",
   "metadata": {},
   "outputs": [],
   "source": [
    "def min_3(a, b, c):\n",
    "    if a < b and a < c:\n",
    "        return a\n",
    "    elif b < a and b < c:\n",
    "        return b\n",
    "    else:\n",
    "        return c"
   ]
  },
  {
   "cell_type": "markdown",
   "id": "9ef85dfd",
   "metadata": {},
   "source": [
    "### Задание 2\n",
    "\n",
    "Допишите функцию, которая принимает 3 числа, сравнивает между собой и возвращает количество совпадающих чисел. Соответственно, программа может возвращать одно из трех чисел: 3 - если совпадают все, 2 - если совпадают 2 числа, 0 - если все числа различны."
   ]
  },
  {
   "cell_type": "code",
   "execution_count": 18,
   "id": "ec6a169c",
   "metadata": {},
   "outputs": [],
   "source": [
    "def count_equal(a, b, c):\n",
    "    if (a == b and a == c) or (b == a and b == c) or (c == a and c == b):\n",
    "        return 3\n",
    "    elif ((a == b and a != c) or (a == c and a != b)) \\\n",
    "      or ((b == a and b != c) or (b == c and b != a)) \\\n",
    "      or ((c == a and c != b) or (c == b and c != a)):\n",
    "        return 2\n",
    "    else:\n",
    "        return 0"
   ]
  },
  {
   "cell_type": "code",
   "execution_count": null,
   "id": "393ccafa",
   "metadata": {},
   "outputs": [],
   "source": []
  }
 ],
 "metadata": {
  "kernelspec": {
   "display_name": "Python 3.9.5 64-bit (system)",
   "language": "python",
   "name": "python3"
  },
  "language_info": {
   "codemirror_mode": {
    "name": "ipython",
    "version": 3
   },
   "file_extension": ".py",
   "mimetype": "text/x-python",
   "name": "python",
   "nbconvert_exporter": "python",
   "pygments_lexer": "ipython3",
   "version": "3.9.5"
  },
  "vscode": {
   "interpreter": {
    "hash": "bbfeb958d0ee73e09dd6ab3c2476db2cbbc40ef3d490514bcd1cdc607b206307"
   }
  }
 },
 "nbformat": 4,
 "nbformat_minor": 5
}
