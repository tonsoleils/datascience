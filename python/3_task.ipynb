{
 "cells": [
  {
   "cell_type": "markdown",
   "id": "657be689",
   "metadata": {},
   "source": [
    "# Самостоятельное задание #3\n",
    "\n",
    "\n",
    "### Задание 1\n",
    "\n",
    "Допишите функцию, которая принимает массив из 10 чисел и возвращает их сумму."
   ]
  },
  {
   "cell_type": "code",
   "execution_count": 1,
   "id": "18ffcbab",
   "metadata": {},
   "outputs": [],
   "source": [
    "def sum(arr):\n",
    "    ans = 0\n",
    "    for number in arr:\n",
    "        ans += number\n",
    "    return ans"
   ]
  },
  {
   "cell_type": "markdown",
   "id": "eb78afc0",
   "metadata": {},
   "source": [
    "\n",
    "### Задание 2\n",
    "\n",
    "Допишите функцию, которая принимает массив чисел и возвращает количество чисел равных нулю."
   ]
  },
  {
   "cell_type": "code",
   "execution_count": 4,
   "id": "7e8fe536",
   "metadata": {},
   "outputs": [],
   "source": [
    "def count_zeros(arr):\n",
    "    ans = 0\n",
    "    for number in arr:\n",
    "        if number == 0:\n",
    "            ans += 1\n",
    "    return ans"
   ]
  },
  {
   "cell_type": "markdown",
   "id": "570d5a26",
   "metadata": {},
   "source": [
    "\n",
    "### Задание 3\n",
    "\n",
    "Напишите программу, в которой задается  натуральное число n и выводится лестница из n ступенек, i-я ступенька должна состоять из чисел от 1 до i без пробелов."
   ]
  },
  {
   "cell_type": "code",
   "execution_count": 21,
   "id": "69fd0501",
   "metadata": {},
   "outputs": [],
   "source": [
    "def ladder(n):\n",
    "    for i in range(1, n + 1):\n",
    "        stair = []\n",
    "        for j in range(1, i + 1):\n",
    "            stair.append(j)\n",
    "        print(*stair, sep='')"
   ]
  },
  {
   "cell_type": "markdown",
   "id": "b6ef1c44",
   "metadata": {},
   "source": [
    "\n",
    "### Задание 4\n",
    "\n",
    "Напишите программу, в которой задается натуральное число n и выводится пирамида из n ступенек, i-я ступень должна состоять из чисел от 1 до i и обратно без пробелов."
   ]
  },
  {
   "cell_type": "code",
   "execution_count": 47,
   "id": "6b038f87",
   "metadata": {},
   "outputs": [],
   "source": [
    "def reverse_ladder(n):\n",
    "    ladder = []\n",
    "    for i in range(1, n + 1):\n",
    "        stair = []\n",
    "        for j in range(1, i + 1):\n",
    "            stair.append(j)\n",
    "        ladder.append(stair)\n",
    "    reversed_ladder = ladder[::-1]\n",
    "    for stair in reversed_ladder:\n",
    "        print(*stair, sep='')"
   ]
  },
  {
   "cell_type": "markdown",
   "id": "b4552ef5",
   "metadata": {},
   "source": [
    "\n",
    "### Задание 5\n",
    "\n",
    "Напишите программу, в которой задается натуральное число n и выводится ромб из `n*2-1` ступенек, i-я ступень должна состоять из чисел от 1 до i и обратно без пробелов."
   ]
  },
  {
   "cell_type": "code",
   "execution_count": 49,
   "id": "5eaae897",
   "metadata": {},
   "outputs": [],
   "source": [
    "def rhomb(n):\n",
    "    rhomb = []\n",
    "    for i in range(n * 2 - 1):\n",
    "        rhomb.append([])\n",
    "        for j in range(n * 2 - 1):\n",
    "            diff = n - abs(j + 1 - n) - abs(i + 1 - n)\n",
    "            rhomb[i].append(diff if diff > 0 else ' ')\n",
    "    \n",
    "    for layer in rhomb:\n",
    "        print(*layer, sep='')"
   ]
  },
  {
   "cell_type": "code",
   "execution_count": null,
   "id": "27c31acc",
   "metadata": {},
   "outputs": [],
   "source": []
  }
 ],
 "metadata": {
  "kernelspec": {
   "display_name": "Python 3.9.5 64-bit (system)",
   "language": "python",
   "name": "python3"
  },
  "language_info": {
   "codemirror_mode": {
    "name": "ipython",
    "version": 3
   },
   "file_extension": ".py",
   "mimetype": "text/x-python",
   "name": "python",
   "nbconvert_exporter": "python",
   "pygments_lexer": "ipython3",
   "version": "3.9.5"
  },
  "vscode": {
   "interpreter": {
    "hash": "bbfeb958d0ee73e09dd6ab3c2476db2cbbc40ef3d490514bcd1cdc607b206307"
   }
  }
 },
 "nbformat": 4,
 "nbformat_minor": 5
}
