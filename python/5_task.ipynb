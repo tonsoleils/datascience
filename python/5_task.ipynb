{
 "cells": [
  {
   "cell_type": "markdown",
   "id": "85755de8",
   "metadata": {},
   "source": [
    "# Самостоятельное задание #5\n",
    "\n",
    "\n",
    "### Задание 1\n",
    "\n",
    "Допишите функцию, которая принимает список, выбирает из него все элементы с четным индексом и возвращает их в виде списка."
   ]
  },
  {
   "cell_type": "code",
   "execution_count": 2,
   "id": "6ef6d9b3",
   "metadata": {},
   "outputs": [],
   "source": [
    "def even_elements(lst):\n",
    "    ans = []\n",
    "    for i in range(len(lst)):\n",
    "        if i % 2 == 0:\n",
    "            ans.append(lst[i])\n",
    "    return ans"
   ]
  },
  {
   "cell_type": "markdown",
   "id": "443974c9",
   "metadata": {},
   "source": [
    "### Задание 2\n",
    "\n",
    "Допишите функцию, которая принимает список, выбирает из него все элементы, которые больше предыдущего и возвращает их в виде списка.\n"
   ]
  },
  {
   "cell_type": "code",
   "execution_count": 5,
   "id": "3a8cf925",
   "metadata": {},
   "outputs": [],
   "source": [
    "def upper_than_previous(lst):\n",
    "    temp = lst[0]\n",
    "    ans = []\n",
    "    for i in range(1, len(lst)):\n",
    "        if lst[i] > temp:\n",
    "            ans.append(lst[i])\n",
    "            temp = lst[i]\n",
    "    return ans"
   ]
  },
  {
   "cell_type": "markdown",
   "id": "34524ede",
   "metadata": {},
   "source": [
    "### Задание 3\n",
    "\n",
    "Допишите функцию, которая принимает список, меняет местами наибольший и наименьший элементы и возвращает этот список."
   ]
  },
  {
   "cell_type": "code",
   "execution_count": 13,
   "id": "34d2beae",
   "metadata": {},
   "outputs": [],
   "source": [
    "def swap_min_max(lst):\n",
    "    min = lst[0]\n",
    "    min_idx = 0\n",
    "    max = lst[0]\n",
    "    max_idx = 0\n",
    "\n",
    "    for i in range(len(lst)):\n",
    "        if lst[i] < min:\n",
    "            min = lst[i]\n",
    "            min_idx = i\n",
    "        if lst[i] > max:\n",
    "            max = lst[i]\n",
    "            max_idx = i\n",
    "\n",
    "    lst[min_idx], lst[max_idx] = lst[max_idx], lst[min_idx]\n",
    "\n",
    "    return lst\n"
   ]
  },
  {
   "cell_type": "code",
   "execution_count": null,
   "id": "4eb1c874",
   "metadata": {},
   "outputs": [],
   "source": []
  }
 ],
 "metadata": {
  "kernelspec": {
   "display_name": "Python 3.9.5 64-bit (system)",
   "language": "python",
   "name": "python3"
  },
  "language_info": {
   "codemirror_mode": {
    "name": "ipython",
    "version": 3
   },
   "file_extension": ".py",
   "mimetype": "text/x-python",
   "name": "python",
   "nbconvert_exporter": "python",
   "pygments_lexer": "ipython3",
   "version": "3.9.5"
  },
  "vscode": {
   "interpreter": {
    "hash": "bbfeb958d0ee73e09dd6ab3c2476db2cbbc40ef3d490514bcd1cdc607b206307"
   }
  }
 },
 "nbformat": 4,
 "nbformat_minor": 5
}
